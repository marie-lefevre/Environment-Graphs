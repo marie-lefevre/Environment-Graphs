{
 "cells": [
  {
   "cell_type": "markdown",
   "metadata": {},
   "source": [
    "# Recycling habits in European households: expectation vs. reality"
   ]
  },
  {
   "cell_type": "markdown",
   "metadata": {},
   "source": [
    "## 0. Preamble and datasets"
   ]
  },
  {
   "cell_type": "code",
   "execution_count": 1,
   "metadata": {},
   "outputs": [],
   "source": [
    "# If needed, first install Plotly in Anaconda, by opening the Anaconda prompt and executing the following line of code:\n",
    "# conda install -c plotly plotly\n",
    "# (see: https://anaconda.org/plotly/plotly)\n",
    "\n",
    "# Import packages\n",
    "import pandas as pd\n",
    "import plotly.express as px\n",
    "import numpy as np\n",
    "\n",
    "# Import datasets\n",
    "# You can find these files under: https://github.com/marie-lefevre/Environment-Graphs/tree/master/map-europe-waste-recycling\n",
    "file1 = pd.read_excel (r'C:\\Users\\marie\\Desktop\\file1_excel.xlsx')\n",
    "file2 = pd.read_excel (r'C:\\Users\\marie\\Desktop\\file2_excel.xlsx')\n"
   ]
  },
  {
   "cell_type": "markdown",
   "metadata": {},
   "source": [
    "## 1. Data analysis"
   ]
  },
  {
   "cell_type": "code",
   "execution_count": 6,
   "metadata": {},
   "outputs": [
    {
     "data": {
      "text/html": [
       "<div>\n",
       "<style scoped>\n",
       "    .dataframe tbody tr th:only-of-type {\n",
       "        vertical-align: middle;\n",
       "    }\n",
       "\n",
       "    .dataframe tbody tr th {\n",
       "        vertical-align: top;\n",
       "    }\n",
       "\n",
       "    .dataframe thead th {\n",
       "        text-align: right;\n",
       "    }\n",
       "</style>\n",
       "<table border=\"1\" class=\"dataframe\">\n",
       "  <thead>\n",
       "    <tr style=\"text-align: right;\">\n",
       "      <th></th>\n",
       "      <th>Country code</th>\n",
       "      <th>Actual recycling rate</th>\n",
       "      <th>country_name_clean</th>\n",
       "      <th>Self-reported recycling rate</th>\n",
       "      <th>diff_recycling_survey</th>\n",
       "      <th>Perception of own recycling behavior</th>\n",
       "    </tr>\n",
       "  </thead>\n",
       "  <tbody>\n",
       "    <tr>\n",
       "      <th>0</th>\n",
       "      <td>AUT</td>\n",
       "      <td>58%</td>\n",
       "      <td>Austria</td>\n",
       "      <td>49%</td>\n",
       "      <td>0.089747</td>\n",
       "      <td>Actual recycling rate is higher than self-repo...</td>\n",
       "    </tr>\n",
       "    <tr>\n",
       "      <th>1</th>\n",
       "      <td>BEL</td>\n",
       "      <td>54%</td>\n",
       "      <td>Belgium</td>\n",
       "      <td>72%</td>\n",
       "      <td>-0.177000</td>\n",
       "      <td>Actual recycling rate and self-reported rate a...</td>\n",
       "    </tr>\n",
       "    <tr>\n",
       "      <th>2</th>\n",
       "      <td>BGR</td>\n",
       "      <td>35%</td>\n",
       "      <td>Bulgaria</td>\n",
       "      <td>17%</td>\n",
       "      <td>0.177220</td>\n",
       "      <td>Actual recycling rate is higher than self-repo...</td>\n",
       "    </tr>\n",
       "    <tr>\n",
       "      <th>3</th>\n",
       "      <td>HRV</td>\n",
       "      <td>24%</td>\n",
       "      <td>Croatia</td>\n",
       "      <td>44%</td>\n",
       "      <td>-0.195294</td>\n",
       "      <td>Actual recycling rate and self-reported rate a...</td>\n",
       "    </tr>\n",
       "    <tr>\n",
       "      <th>4</th>\n",
       "      <td>CYP</td>\n",
       "      <td>16%</td>\n",
       "      <td>Cyprus</td>\n",
       "      <td>58%</td>\n",
       "      <td>-0.420838</td>\n",
       "      <td>Self-reported recycling rate is higher than ac...</td>\n",
       "    </tr>\n",
       "    <tr>\n",
       "      <th>5</th>\n",
       "      <td>CZE</td>\n",
       "      <td>38%</td>\n",
       "      <td>Czechia</td>\n",
       "      <td>67%</td>\n",
       "      <td>-0.292294</td>\n",
       "      <td>Actual recycling rate and self-reported rate a...</td>\n",
       "    </tr>\n",
       "    <tr>\n",
       "      <th>6</th>\n",
       "      <td>DNK</td>\n",
       "      <td>46%</td>\n",
       "      <td>Denmark</td>\n",
       "      <td>69%</td>\n",
       "      <td>-0.232615</td>\n",
       "      <td>Actual recycling rate and self-reported rate a...</td>\n",
       "    </tr>\n",
       "    <tr>\n",
       "      <th>7</th>\n",
       "      <td>EST</td>\n",
       "      <td>28%</td>\n",
       "      <td>Estonia</td>\n",
       "      <td>51%</td>\n",
       "      <td>-0.232413</td>\n",
       "      <td>Actual recycling rate and self-reported rate a...</td>\n",
       "    </tr>\n",
       "    <tr>\n",
       "      <th>8</th>\n",
       "      <td>UE28</td>\n",
       "      <td>46%</td>\n",
       "      <td>European Union (EU-28)</td>\n",
       "      <td>65%</td>\n",
       "      <td>-0.192093</td>\n",
       "      <td>Actual recycling rate and self-reported rate a...</td>\n",
       "    </tr>\n",
       "    <tr>\n",
       "      <th>9</th>\n",
       "      <td>FIN</td>\n",
       "      <td>41%</td>\n",
       "      <td>Finland</td>\n",
       "      <td>77%</td>\n",
       "      <td>-0.362277</td>\n",
       "      <td>Self-reported recycling rate is higher than ac...</td>\n",
       "    </tr>\n",
       "    <tr>\n",
       "      <th>10</th>\n",
       "      <td>FRA</td>\n",
       "      <td>43%</td>\n",
       "      <td>France</td>\n",
       "      <td>81%</td>\n",
       "      <td>-0.377087</td>\n",
       "      <td>Self-reported recycling rate is higher than ac...</td>\n",
       "    </tr>\n",
       "    <tr>\n",
       "      <th>11</th>\n",
       "      <td>DEU</td>\n",
       "      <td>68%</td>\n",
       "      <td>Germany</td>\n",
       "      <td>70%</td>\n",
       "      <td>-0.017068</td>\n",
       "      <td>Actual recycling rate and self-reported rate a...</td>\n",
       "    </tr>\n",
       "    <tr>\n",
       "      <th>12</th>\n",
       "      <td>GRC</td>\n",
       "      <td>19%</td>\n",
       "      <td>Greece</td>\n",
       "      <td>57%</td>\n",
       "      <td>-0.382421</td>\n",
       "      <td>Self-reported recycling rate is higher than ac...</td>\n",
       "    </tr>\n",
       "    <tr>\n",
       "      <th>13</th>\n",
       "      <td>HUN</td>\n",
       "      <td>35%</td>\n",
       "      <td>Hungary</td>\n",
       "      <td>54%</td>\n",
       "      <td>-0.192857</td>\n",
       "      <td>Actual recycling rate and self-reported rate a...</td>\n",
       "    </tr>\n",
       "    <tr>\n",
       "      <th>14</th>\n",
       "      <td>IRL</td>\n",
       "      <td>41%</td>\n",
       "      <td>Ireland</td>\n",
       "      <td>65%</td>\n",
       "      <td>-0.238703</td>\n",
       "      <td>Actual recycling rate and self-reported rate a...</td>\n",
       "    </tr>\n",
       "    <tr>\n",
       "      <th>15</th>\n",
       "      <td>ITA</td>\n",
       "      <td>48%</td>\n",
       "      <td>Italy</td>\n",
       "      <td>57%</td>\n",
       "      <td>-0.094489</td>\n",
       "      <td>Actual recycling rate and self-reported rate a...</td>\n",
       "    </tr>\n",
       "    <tr>\n",
       "      <th>16</th>\n",
       "      <td>LVA</td>\n",
       "      <td>23%</td>\n",
       "      <td>Latvia</td>\n",
       "      <td>45%</td>\n",
       "      <td>-0.220100</td>\n",
       "      <td>Actual recycling rate and self-reported rate a...</td>\n",
       "    </tr>\n",
       "    <tr>\n",
       "      <th>17</th>\n",
       "      <td>LTU</td>\n",
       "      <td>48%</td>\n",
       "      <td>Lithuania</td>\n",
       "      <td>67%</td>\n",
       "      <td>-0.191984</td>\n",
       "      <td>Actual recycling rate and self-reported rate a...</td>\n",
       "    </tr>\n",
       "    <tr>\n",
       "      <th>18</th>\n",
       "      <td>LUX</td>\n",
       "      <td>48%</td>\n",
       "      <td>Luxembourg</td>\n",
       "      <td>79%</td>\n",
       "      <td>-0.309683</td>\n",
       "      <td>Actual recycling rate and self-reported rate a...</td>\n",
       "    </tr>\n",
       "    <tr>\n",
       "      <th>19</th>\n",
       "      <td>MLT</td>\n",
       "      <td>6%</td>\n",
       "      <td>Malta</td>\n",
       "      <td>72%</td>\n",
       "      <td>-0.660322</td>\n",
       "      <td>Self-reported recycling rate is higher than ac...</td>\n",
       "    </tr>\n",
       "    <tr>\n",
       "      <th>20</th>\n",
       "      <td>NLD</td>\n",
       "      <td>54%</td>\n",
       "      <td>The Netherlands</td>\n",
       "      <td>82%</td>\n",
       "      <td>-0.275400</td>\n",
       "      <td>Actual recycling rate and self-reported rate a...</td>\n",
       "    </tr>\n",
       "    <tr>\n",
       "      <th>21</th>\n",
       "      <td>POL</td>\n",
       "      <td>34%</td>\n",
       "      <td>Poland</td>\n",
       "      <td>55%</td>\n",
       "      <td>-0.207076</td>\n",
       "      <td>Actual recycling rate and self-reported rate a...</td>\n",
       "    </tr>\n",
       "    <tr>\n",
       "      <th>22</th>\n",
       "      <td>PRT</td>\n",
       "      <td>28%</td>\n",
       "      <td>Portugal</td>\n",
       "      <td>63%</td>\n",
       "      <td>-0.350885</td>\n",
       "      <td>Self-reported recycling rate is higher than ac...</td>\n",
       "    </tr>\n",
       "    <tr>\n",
       "      <th>23</th>\n",
       "      <td>ROU</td>\n",
       "      <td>14%</td>\n",
       "      <td>Romania</td>\n",
       "      <td>29%</td>\n",
       "      <td>-0.146130</td>\n",
       "      <td>Actual recycling rate and self-reported rate a...</td>\n",
       "    </tr>\n",
       "    <tr>\n",
       "      <th>24</th>\n",
       "      <td>SVK</td>\n",
       "      <td>30%</td>\n",
       "      <td>Slovakia</td>\n",
       "      <td>60%</td>\n",
       "      <td>-0.300554</td>\n",
       "      <td>Actual recycling rate and self-reported rate a...</td>\n",
       "    </tr>\n",
       "    <tr>\n",
       "      <th>25</th>\n",
       "      <td>SVN</td>\n",
       "      <td>58%</td>\n",
       "      <td>Slovenia</td>\n",
       "      <td>81%</td>\n",
       "      <td>-0.233659</td>\n",
       "      <td>Actual recycling rate and self-reported rate a...</td>\n",
       "    </tr>\n",
       "    <tr>\n",
       "      <th>26</th>\n",
       "      <td>ESP</td>\n",
       "      <td>33%</td>\n",
       "      <td>Spain</td>\n",
       "      <td>61%</td>\n",
       "      <td>-0.280505</td>\n",
       "      <td>Actual recycling rate and self-reported rate a...</td>\n",
       "    </tr>\n",
       "    <tr>\n",
       "      <th>27</th>\n",
       "      <td>SWE</td>\n",
       "      <td>47%</td>\n",
       "      <td>Sweden</td>\n",
       "      <td>87%</td>\n",
       "      <td>-0.401470</td>\n",
       "      <td>Self-reported recycling rate is higher than ac...</td>\n",
       "    </tr>\n",
       "    <tr>\n",
       "      <th>28</th>\n",
       "      <td>GBR</td>\n",
       "      <td>44%</td>\n",
       "      <td>United Kingdom</td>\n",
       "      <td>76%</td>\n",
       "      <td>-0.320965</td>\n",
       "      <td>Actual recycling rate and self-reported rate a...</td>\n",
       "    </tr>\n",
       "  </tbody>\n",
       "</table>\n",
       "</div>"
      ],
      "text/plain": [
       "   Country code Actual recycling rate      country_name_clean  \\\n",
       "0           AUT                   58%                 Austria   \n",
       "1           BEL                   54%                 Belgium   \n",
       "2           BGR                   35%                Bulgaria   \n",
       "3           HRV                   24%                 Croatia   \n",
       "4           CYP                   16%                  Cyprus   \n",
       "5           CZE                   38%                 Czechia   \n",
       "6           DNK                   46%                 Denmark   \n",
       "7           EST                   28%                 Estonia   \n",
       "8          UE28                   46%  European Union (EU-28)   \n",
       "9           FIN                   41%                 Finland   \n",
       "10          FRA                   43%                  France   \n",
       "11          DEU                   68%                 Germany   \n",
       "12          GRC                   19%                  Greece   \n",
       "13          HUN                   35%                 Hungary   \n",
       "14          IRL                   41%                 Ireland   \n",
       "15          ITA                   48%                   Italy   \n",
       "16          LVA                   23%                  Latvia   \n",
       "17          LTU                   48%               Lithuania   \n",
       "18          LUX                   48%              Luxembourg   \n",
       "19          MLT                    6%                   Malta   \n",
       "20          NLD                   54%         The Netherlands   \n",
       "21          POL                   34%                  Poland   \n",
       "22          PRT                   28%                Portugal   \n",
       "23          ROU                   14%                 Romania   \n",
       "24          SVK                   30%                Slovakia   \n",
       "25          SVN                   58%                Slovenia   \n",
       "26          ESP                   33%                   Spain   \n",
       "27          SWE                   47%                  Sweden   \n",
       "28          GBR                   44%          United Kingdom   \n",
       "\n",
       "   Self-reported recycling rate  diff_recycling_survey  \\\n",
       "0                           49%               0.089747   \n",
       "1                           72%              -0.177000   \n",
       "2                           17%               0.177220   \n",
       "3                           44%              -0.195294   \n",
       "4                           58%              -0.420838   \n",
       "5                           67%              -0.292294   \n",
       "6                           69%              -0.232615   \n",
       "7                           51%              -0.232413   \n",
       "8                           65%              -0.192093   \n",
       "9                           77%              -0.362277   \n",
       "10                          81%              -0.377087   \n",
       "11                          70%              -0.017068   \n",
       "12                          57%              -0.382421   \n",
       "13                          54%              -0.192857   \n",
       "14                          65%              -0.238703   \n",
       "15                          57%              -0.094489   \n",
       "16                          45%              -0.220100   \n",
       "17                          67%              -0.191984   \n",
       "18                          79%              -0.309683   \n",
       "19                          72%              -0.660322   \n",
       "20                          82%              -0.275400   \n",
       "21                          55%              -0.207076   \n",
       "22                          63%              -0.350885   \n",
       "23                          29%              -0.146130   \n",
       "24                          60%              -0.300554   \n",
       "25                          81%              -0.233659   \n",
       "26                          61%              -0.280505   \n",
       "27                          87%              -0.401470   \n",
       "28                          76%              -0.320965   \n",
       "\n",
       "                 Perception of own recycling behavior  \n",
       "0   Actual recycling rate is higher than self-repo...  \n",
       "1   Actual recycling rate and self-reported rate a...  \n",
       "2   Actual recycling rate is higher than self-repo...  \n",
       "3   Actual recycling rate and self-reported rate a...  \n",
       "4   Self-reported recycling rate is higher than ac...  \n",
       "5   Actual recycling rate and self-reported rate a...  \n",
       "6   Actual recycling rate and self-reported rate a...  \n",
       "7   Actual recycling rate and self-reported rate a...  \n",
       "8   Actual recycling rate and self-reported rate a...  \n",
       "9   Self-reported recycling rate is higher than ac...  \n",
       "10  Self-reported recycling rate is higher than ac...  \n",
       "11  Actual recycling rate and self-reported rate a...  \n",
       "12  Self-reported recycling rate is higher than ac...  \n",
       "13  Actual recycling rate and self-reported rate a...  \n",
       "14  Actual recycling rate and self-reported rate a...  \n",
       "15  Actual recycling rate and self-reported rate a...  \n",
       "16  Actual recycling rate and self-reported rate a...  \n",
       "17  Actual recycling rate and self-reported rate a...  \n",
       "18  Actual recycling rate and self-reported rate a...  \n",
       "19  Self-reported recycling rate is higher than ac...  \n",
       "20  Actual recycling rate and self-reported rate a...  \n",
       "21  Actual recycling rate and self-reported rate a...  \n",
       "22  Self-reported recycling rate is higher than ac...  \n",
       "23  Actual recycling rate and self-reported rate a...  \n",
       "24  Actual recycling rate and self-reported rate a...  \n",
       "25  Actual recycling rate and self-reported rate a...  \n",
       "26  Actual recycling rate and self-reported rate a...  \n",
       "27  Self-reported recycling rate is higher than ac...  \n",
       "28  Actual recycling rate and self-reported rate a...  "
      ]
     },
     "execution_count": 6,
     "metadata": {},
     "output_type": "execute_result"
    }
   ],
   "source": [
    "# Create df1 based on file1\n",
    "df1 = file1\n",
    "# Drop NA row at the last row\n",
    "df1 = df1.drop(70)\n",
    "# Keep only data for 2017\n",
    "df1 = df1.loc[df1['date'] == 2017]\n",
    "# Set country_code as index\n",
    "df1.set_index('country_code',inplace=True)\n",
    "# Understand the structure of df1\n",
    "#df1.describe()\n",
    "# Drop the column \"date\", \"date_original\" and \"country_name_raw\"\n",
    "df1 = df1.drop([\"date\", 'date_original', \"country_name_raw\"], axis=1)\n",
    "\n",
    "# Create df2 based on file2\n",
    "df2 = file2\n",
    "# Remove useless columns \"code_raw\" and \"survey_perc\"\n",
    "df2 = df2.drop([\"code_raw\", 'survey_perc'], axis=1)\n",
    "# Re-create a clean and accurate percentage of respondents\n",
    "df2[\"survey_perc\"] = df2[\"survey_abs\"] / df2[\"pop_tot\"]\n",
    "# Set \"country_code\" as index\n",
    "df2.set_index('country_code',inplace=True)\n",
    "# Remove useless columns \"pop_tot\" and \"survey_abs\"\n",
    "df2 = df2.drop([\"pop_tot\", 'survey_abs'], axis=1)\n",
    "# Understand the structure of df2\n",
    "#df2.describe()\n",
    "\n",
    "# Merge the 2 datasets (inner join)\n",
    "dfm = pd.merge(df1, df2, on='country_code', how='inner')\n",
    "# Reset index\n",
    "dfm = dfm.reset_index()\n",
    "# Calculate difference between recycling_rate and survey_perc\n",
    "dfm[\"diff_recycling_survey\"] = dfm[\"recycling_rate\"] - dfm[\"survey_perc\"]\n",
    "\n",
    "# Format \"Respondent rate\" in percentage\n",
    "dfm[\"survey_perc\"] = pd.Series([round(val, 2) for val in dfm['survey_perc']], index = dfm.index)\n",
    "dfm[\"survey_perc\"] = pd.Series([\"{0:.0f}%\".format(val * 100) for val in dfm['survey_perc']], index = dfm.index)\n",
    "# Format \"Recycling rate\" in percentage\n",
    "dfm[\"recycling_rate\"] = pd.Series([round(val, 2) for val in dfm['recycling_rate']], index = dfm.index)\n",
    "dfm[\"recycling_rate\"] = pd.Series([\"{0:.0f}%\".format(val * 100) for val in dfm['recycling_rate']], index = dfm.index)\n",
    "\n",
    "# Create categories for the perception of its own recycling behavior vs. actual recycling rate\n",
    "conditions = [\n",
    "    (dfm['diff_recycling_survey'] > 0),\n",
    "    (dfm['diff_recycling_survey'] <= 0) & (dfm['diff_recycling_survey'] >= ((0+min(dfm[\"diff_recycling_survey\"])) / 2)),\n",
    "    (dfm['diff_recycling_survey'] < ((0+min(dfm[\"diff_recycling_survey\"])) / 2))\n",
    "    ]\n",
    "choices = ['Actual recycling rate is higher than self-reported rate',\\\n",
    "           'Actual recycling rate and self-reported rate are similar',\\\n",
    "           'Self-reported recycling rate is higher than actual rate']\n",
    "dfm[\"cat_recycling_perception\"] = np.select(conditions, choices, default='null')\n",
    "\n",
    "# Rename columns\n",
    "dfm.columns = [\"Country code\", \"Actual recycling rate\", \"country_name_clean\", \"Self-reported recycling rate\", \\\n",
    "               \"diff_recycling_survey\", \"Perception of own recycling behavior\"]\n",
    "\n",
    "# Display final dataframe \n",
    "dfm\n"
   ]
  },
  {
   "cell_type": "markdown",
   "metadata": {},
   "source": [
    "## 2. Visualization"
   ]
  },
  {
   "cell_type": "code",
   "execution_count": 7,
   "metadata": {},
   "outputs": [
    {
     "data": {
      "application/vnd.plotly.v1+json": {
       "config": {
        "plotlyServerURL": "https://plot.ly"
       },
       "data": [
        {
         "colorscale": [
          [
           0,
           "#00CC93"
          ],
          [
           1,
           "#00CC93"
          ]
         ],
         "customdata": [
          [
           "49%",
           "58%"
          ],
          [
           "17%",
           "35%"
          ]
         ],
         "geo": "geo",
         "hoverlabel": {
          "namelength": 0
         },
         "hovertemplate": "<b>%{hovertext}</b><br><br>Perception of own recycling behavior=Actual recycling rate is higher than self-reported rate<br>Self-reported recycling rate=%{customdata[0]}<br>Actual recycling rate=%{customdata[1]}<br>Country code=%{location}",
         "hovertext": [
          "Austria",
          "Bulgaria"
         ],
         "locations": [
          "AUT",
          "BGR"
         ],
         "name": "Actual recycling rate is higher than self-reported rate",
         "showlegend": true,
         "showscale": false,
         "type": "choropleth",
         "z": [
          1,
          1
         ]
        },
        {
         "colorscale": [
          [
           0,
           "#636EFA"
          ],
          [
           1,
           "#636EFA"
          ]
         ],
         "customdata": [
          [
           "72%",
           "54%"
          ],
          [
           "44%",
           "24%"
          ],
          [
           "67%",
           "38%"
          ],
          [
           "69%",
           "46%"
          ],
          [
           "51%",
           "28%"
          ],
          [
           "65%",
           "46%"
          ],
          [
           "70%",
           "68%"
          ],
          [
           "54%",
           "35%"
          ],
          [
           "65%",
           "41%"
          ],
          [
           "57%",
           "48%"
          ],
          [
           "45%",
           "23%"
          ],
          [
           "67%",
           "48%"
          ],
          [
           "79%",
           "48%"
          ],
          [
           "82%",
           "54%"
          ],
          [
           "55%",
           "34%"
          ],
          [
           "29%",
           "14%"
          ],
          [
           "60%",
           "30%"
          ],
          [
           "81%",
           "58%"
          ],
          [
           "61%",
           "33%"
          ],
          [
           "76%",
           "44%"
          ]
         ],
         "geo": "geo",
         "hoverlabel": {
          "namelength": 0
         },
         "hovertemplate": "<b>%{hovertext}</b><br><br>Perception of own recycling behavior=Actual recycling rate and self-reported rate are similar<br>Self-reported recycling rate=%{customdata[0]}<br>Actual recycling rate=%{customdata[1]}<br>Country code=%{location}",
         "hovertext": [
          "Belgium",
          "Croatia",
          "Czechia",
          "Denmark",
          "Estonia",
          "European Union (EU-28)",
          "Germany",
          "Hungary",
          "Ireland",
          "Italy",
          "Latvia",
          "Lithuania",
          "Luxembourg",
          "The Netherlands",
          "Poland",
          "Romania",
          "Slovakia",
          "Slovenia",
          "Spain",
          "United Kingdom"
         ],
         "locations": [
          "BEL",
          "HRV",
          "CZE",
          "DNK",
          "EST",
          "UE28",
          "DEU",
          "HUN",
          "IRL",
          "ITA",
          "LVA",
          "LTU",
          "LUX",
          "NLD",
          "POL",
          "ROU",
          "SVK",
          "SVN",
          "ESP",
          "GBR"
         ],
         "name": "Actual recycling rate and self-reported rate are similar",
         "showlegend": true,
         "showscale": false,
         "type": "choropleth",
         "z": [
          1,
          1,
          1,
          1,
          1,
          1,
          1,
          1,
          1,
          1,
          1,
          1,
          1,
          1,
          1,
          1,
          1,
          1,
          1,
          1
         ]
        },
        {
         "colorscale": [
          [
           0,
           "#EF553B"
          ],
          [
           1,
           "#EF553B"
          ]
         ],
         "customdata": [
          [
           "58%",
           "16%"
          ],
          [
           "77%",
           "41%"
          ],
          [
           "81%",
           "43%"
          ],
          [
           "57%",
           "19%"
          ],
          [
           "72%",
           "6%"
          ],
          [
           "63%",
           "28%"
          ],
          [
           "87%",
           "47%"
          ]
         ],
         "geo": "geo",
         "hoverlabel": {
          "namelength": 0
         },
         "hovertemplate": "<b>%{hovertext}</b><br><br>Perception of own recycling behavior=Self-reported recycling rate is higher than actual rate<br>Self-reported recycling rate=%{customdata[0]}<br>Actual recycling rate=%{customdata[1]}<br>Country code=%{location}",
         "hovertext": [
          "Cyprus",
          "Finland",
          "France",
          "Greece",
          "Malta",
          "Portugal",
          "Sweden"
         ],
         "locations": [
          "CYP",
          "FIN",
          "FRA",
          "GRC",
          "MLT",
          "PRT",
          "SWE"
         ],
         "name": "Self-reported recycling rate is higher than actual rate",
         "showlegend": true,
         "showscale": false,
         "type": "choropleth",
         "z": [
          1,
          1,
          1,
          1,
          1,
          1,
          1
         ]
        }
       ],
       "layout": {
        "annotations": [
         {
          "showarrow": false,
          "text": "Scale based on the comparison between actual recycling rate* and self-reported recycling rate**",
          "x": 0.08,
          "xref": "paper",
          "y": 1.07,
          "yref": "paper"
         },
         {
          "showarrow": false,
          "text": "*Percentage of municipal waste being recycled and composted",
          "x": 0.08,
          "xref": "paper",
          "y": 0.09,
          "yref": "paper"
         },
         {
          "showarrow": false,
          "text": "**Percentage of respondents reporting separating most of their waste for recycling in the past 6 months",
          "x": 0.08,
          "xref": "paper",
          "y": 0.05,
          "yref": "paper"
         }
        ],
        "autosize": true,
        "geo": {
         "center": {},
         "domain": {
          "x": [
           0,
           1
          ],
          "y": [
           0,
           1
          ]
         },
         "projection": {
          "type": "natural earth"
         },
         "scope": "europe"
        },
        "legend": {
         "title": {
          "text": "Perception of own recycling behavior"
         },
         "tracegroupgap": 0
        },
        "margin": {
         "b": 0,
         "l": 0,
         "r": 0,
         "t": 80
        },
        "template": {
         "data": {
          "bar": [
           {
            "error_x": {
             "color": "#2a3f5f"
            },
            "error_y": {
             "color": "#2a3f5f"
            },
            "marker": {
             "line": {
              "color": "#E5ECF6",
              "width": 0.5
             }
            },
            "type": "bar"
           }
          ],
          "barpolar": [
           {
            "marker": {
             "line": {
              "color": "#E5ECF6",
              "width": 0.5
             }
            },
            "type": "barpolar"
           }
          ],
          "carpet": [
           {
            "aaxis": {
             "endlinecolor": "#2a3f5f",
             "gridcolor": "white",
             "linecolor": "white",
             "minorgridcolor": "white",
             "startlinecolor": "#2a3f5f"
            },
            "baxis": {
             "endlinecolor": "#2a3f5f",
             "gridcolor": "white",
             "linecolor": "white",
             "minorgridcolor": "white",
             "startlinecolor": "#2a3f5f"
            },
            "type": "carpet"
           }
          ],
          "choropleth": [
           {
            "colorbar": {
             "outlinewidth": 0,
             "ticks": ""
            },
            "type": "choropleth"
           }
          ],
          "contour": [
           {
            "colorbar": {
             "outlinewidth": 0,
             "ticks": ""
            },
            "colorscale": [
             [
              0,
              "#0d0887"
             ],
             [
              0.1111111111111111,
              "#46039f"
             ],
             [
              0.2222222222222222,
              "#7201a8"
             ],
             [
              0.3333333333333333,
              "#9c179e"
             ],
             [
              0.4444444444444444,
              "#bd3786"
             ],
             [
              0.5555555555555556,
              "#d8576b"
             ],
             [
              0.6666666666666666,
              "#ed7953"
             ],
             [
              0.7777777777777778,
              "#fb9f3a"
             ],
             [
              0.8888888888888888,
              "#fdca26"
             ],
             [
              1,
              "#f0f921"
             ]
            ],
            "type": "contour"
           }
          ],
          "contourcarpet": [
           {
            "colorbar": {
             "outlinewidth": 0,
             "ticks": ""
            },
            "type": "contourcarpet"
           }
          ],
          "heatmap": [
           {
            "colorbar": {
             "outlinewidth": 0,
             "ticks": ""
            },
            "colorscale": [
             [
              0,
              "#0d0887"
             ],
             [
              0.1111111111111111,
              "#46039f"
             ],
             [
              0.2222222222222222,
              "#7201a8"
             ],
             [
              0.3333333333333333,
              "#9c179e"
             ],
             [
              0.4444444444444444,
              "#bd3786"
             ],
             [
              0.5555555555555556,
              "#d8576b"
             ],
             [
              0.6666666666666666,
              "#ed7953"
             ],
             [
              0.7777777777777778,
              "#fb9f3a"
             ],
             [
              0.8888888888888888,
              "#fdca26"
             ],
             [
              1,
              "#f0f921"
             ]
            ],
            "type": "heatmap"
           }
          ],
          "heatmapgl": [
           {
            "colorbar": {
             "outlinewidth": 0,
             "ticks": ""
            },
            "colorscale": [
             [
              0,
              "#0d0887"
             ],
             [
              0.1111111111111111,
              "#46039f"
             ],
             [
              0.2222222222222222,
              "#7201a8"
             ],
             [
              0.3333333333333333,
              "#9c179e"
             ],
             [
              0.4444444444444444,
              "#bd3786"
             ],
             [
              0.5555555555555556,
              "#d8576b"
             ],
             [
              0.6666666666666666,
              "#ed7953"
             ],
             [
              0.7777777777777778,
              "#fb9f3a"
             ],
             [
              0.8888888888888888,
              "#fdca26"
             ],
             [
              1,
              "#f0f921"
             ]
            ],
            "type": "heatmapgl"
           }
          ],
          "histogram": [
           {
            "marker": {
             "colorbar": {
              "outlinewidth": 0,
              "ticks": ""
             }
            },
            "type": "histogram"
           }
          ],
          "histogram2d": [
           {
            "colorbar": {
             "outlinewidth": 0,
             "ticks": ""
            },
            "colorscale": [
             [
              0,
              "#0d0887"
             ],
             [
              0.1111111111111111,
              "#46039f"
             ],
             [
              0.2222222222222222,
              "#7201a8"
             ],
             [
              0.3333333333333333,
              "#9c179e"
             ],
             [
              0.4444444444444444,
              "#bd3786"
             ],
             [
              0.5555555555555556,
              "#d8576b"
             ],
             [
              0.6666666666666666,
              "#ed7953"
             ],
             [
              0.7777777777777778,
              "#fb9f3a"
             ],
             [
              0.8888888888888888,
              "#fdca26"
             ],
             [
              1,
              "#f0f921"
             ]
            ],
            "type": "histogram2d"
           }
          ],
          "histogram2dcontour": [
           {
            "colorbar": {
             "outlinewidth": 0,
             "ticks": ""
            },
            "colorscale": [
             [
              0,
              "#0d0887"
             ],
             [
              0.1111111111111111,
              "#46039f"
             ],
             [
              0.2222222222222222,
              "#7201a8"
             ],
             [
              0.3333333333333333,
              "#9c179e"
             ],
             [
              0.4444444444444444,
              "#bd3786"
             ],
             [
              0.5555555555555556,
              "#d8576b"
             ],
             [
              0.6666666666666666,
              "#ed7953"
             ],
             [
              0.7777777777777778,
              "#fb9f3a"
             ],
             [
              0.8888888888888888,
              "#fdca26"
             ],
             [
              1,
              "#f0f921"
             ]
            ],
            "type": "histogram2dcontour"
           }
          ],
          "mesh3d": [
           {
            "colorbar": {
             "outlinewidth": 0,
             "ticks": ""
            },
            "type": "mesh3d"
           }
          ],
          "parcoords": [
           {
            "line": {
             "colorbar": {
              "outlinewidth": 0,
              "ticks": ""
             }
            },
            "type": "parcoords"
           }
          ],
          "pie": [
           {
            "automargin": true,
            "type": "pie"
           }
          ],
          "scatter": [
           {
            "marker": {
             "colorbar": {
              "outlinewidth": 0,
              "ticks": ""
             }
            },
            "type": "scatter"
           }
          ],
          "scatter3d": [
           {
            "line": {
             "colorbar": {
              "outlinewidth": 0,
              "ticks": ""
             }
            },
            "marker": {
             "colorbar": {
              "outlinewidth": 0,
              "ticks": ""
             }
            },
            "type": "scatter3d"
           }
          ],
          "scattercarpet": [
           {
            "marker": {
             "colorbar": {
              "outlinewidth": 0,
              "ticks": ""
             }
            },
            "type": "scattercarpet"
           }
          ],
          "scattergeo": [
           {
            "marker": {
             "colorbar": {
              "outlinewidth": 0,
              "ticks": ""
             }
            },
            "type": "scattergeo"
           }
          ],
          "scattergl": [
           {
            "marker": {
             "colorbar": {
              "outlinewidth": 0,
              "ticks": ""
             }
            },
            "type": "scattergl"
           }
          ],
          "scattermapbox": [
           {
            "marker": {
             "colorbar": {
              "outlinewidth": 0,
              "ticks": ""
             }
            },
            "type": "scattermapbox"
           }
          ],
          "scatterpolar": [
           {
            "marker": {
             "colorbar": {
              "outlinewidth": 0,
              "ticks": ""
             }
            },
            "type": "scatterpolar"
           }
          ],
          "scatterpolargl": [
           {
            "marker": {
             "colorbar": {
              "outlinewidth": 0,
              "ticks": ""
             }
            },
            "type": "scatterpolargl"
           }
          ],
          "scatterternary": [
           {
            "marker": {
             "colorbar": {
              "outlinewidth": 0,
              "ticks": ""
             }
            },
            "type": "scatterternary"
           }
          ],
          "surface": [
           {
            "colorbar": {
             "outlinewidth": 0,
             "ticks": ""
            },
            "colorscale": [
             [
              0,
              "#0d0887"
             ],
             [
              0.1111111111111111,
              "#46039f"
             ],
             [
              0.2222222222222222,
              "#7201a8"
             ],
             [
              0.3333333333333333,
              "#9c179e"
             ],
             [
              0.4444444444444444,
              "#bd3786"
             ],
             [
              0.5555555555555556,
              "#d8576b"
             ],
             [
              0.6666666666666666,
              "#ed7953"
             ],
             [
              0.7777777777777778,
              "#fb9f3a"
             ],
             [
              0.8888888888888888,
              "#fdca26"
             ],
             [
              1,
              "#f0f921"
             ]
            ],
            "type": "surface"
           }
          ],
          "table": [
           {
            "cells": {
             "fill": {
              "color": "#EBF0F8"
             },
             "line": {
              "color": "white"
             }
            },
            "header": {
             "fill": {
              "color": "#C8D4E3"
             },
             "line": {
              "color": "white"
             }
            },
            "type": "table"
           }
          ]
         },
         "layout": {
          "annotationdefaults": {
           "arrowcolor": "#2a3f5f",
           "arrowhead": 0,
           "arrowwidth": 1
          },
          "coloraxis": {
           "colorbar": {
            "outlinewidth": 0,
            "ticks": ""
           }
          },
          "colorscale": {
           "diverging": [
            [
             0,
             "#8e0152"
            ],
            [
             0.1,
             "#c51b7d"
            ],
            [
             0.2,
             "#de77ae"
            ],
            [
             0.3,
             "#f1b6da"
            ],
            [
             0.4,
             "#fde0ef"
            ],
            [
             0.5,
             "#f7f7f7"
            ],
            [
             0.6,
             "#e6f5d0"
            ],
            [
             0.7,
             "#b8e186"
            ],
            [
             0.8,
             "#7fbc41"
            ],
            [
             0.9,
             "#4d9221"
            ],
            [
             1,
             "#276419"
            ]
           ],
           "sequential": [
            [
             0,
             "#0d0887"
            ],
            [
             0.1111111111111111,
             "#46039f"
            ],
            [
             0.2222222222222222,
             "#7201a8"
            ],
            [
             0.3333333333333333,
             "#9c179e"
            ],
            [
             0.4444444444444444,
             "#bd3786"
            ],
            [
             0.5555555555555556,
             "#d8576b"
            ],
            [
             0.6666666666666666,
             "#ed7953"
            ],
            [
             0.7777777777777778,
             "#fb9f3a"
            ],
            [
             0.8888888888888888,
             "#fdca26"
            ],
            [
             1,
             "#f0f921"
            ]
           ],
           "sequentialminus": [
            [
             0,
             "#0d0887"
            ],
            [
             0.1111111111111111,
             "#46039f"
            ],
            [
             0.2222222222222222,
             "#7201a8"
            ],
            [
             0.3333333333333333,
             "#9c179e"
            ],
            [
             0.4444444444444444,
             "#bd3786"
            ],
            [
             0.5555555555555556,
             "#d8576b"
            ],
            [
             0.6666666666666666,
             "#ed7953"
            ],
            [
             0.7777777777777778,
             "#fb9f3a"
            ],
            [
             0.8888888888888888,
             "#fdca26"
            ],
            [
             1,
             "#f0f921"
            ]
           ]
          },
          "colorway": [
           "#636efa",
           "#EF553B",
           "#00cc96",
           "#ab63fa",
           "#FFA15A",
           "#19d3f3",
           "#FF6692",
           "#B6E880",
           "#FF97FF",
           "#FECB52"
          ],
          "font": {
           "color": "#2a3f5f"
          },
          "geo": {
           "bgcolor": "white",
           "lakecolor": "white",
           "landcolor": "#E5ECF6",
           "showlakes": true,
           "showland": true,
           "subunitcolor": "white"
          },
          "hoverlabel": {
           "align": "left"
          },
          "hovermode": "closest",
          "mapbox": {
           "style": "light"
          },
          "paper_bgcolor": "white",
          "plot_bgcolor": "#E5ECF6",
          "polar": {
           "angularaxis": {
            "gridcolor": "white",
            "linecolor": "white",
            "ticks": ""
           },
           "bgcolor": "#E5ECF6",
           "radialaxis": {
            "gridcolor": "white",
            "linecolor": "white",
            "ticks": ""
           }
          },
          "scene": {
           "xaxis": {
            "backgroundcolor": "#E5ECF6",
            "gridcolor": "white",
            "gridwidth": 2,
            "linecolor": "white",
            "showbackground": true,
            "ticks": "",
            "zerolinecolor": "white"
           },
           "yaxis": {
            "backgroundcolor": "#E5ECF6",
            "gridcolor": "white",
            "gridwidth": 2,
            "linecolor": "white",
            "showbackground": true,
            "ticks": "",
            "zerolinecolor": "white"
           },
           "zaxis": {
            "backgroundcolor": "#E5ECF6",
            "gridcolor": "white",
            "gridwidth": 2,
            "linecolor": "white",
            "showbackground": true,
            "ticks": "",
            "zerolinecolor": "white"
           }
          },
          "shapedefaults": {
           "line": {
            "color": "#2a3f5f"
           }
          },
          "ternary": {
           "aaxis": {
            "gridcolor": "white",
            "linecolor": "white",
            "ticks": ""
           },
           "baxis": {
            "gridcolor": "white",
            "linecolor": "white",
            "ticks": ""
           },
           "bgcolor": "#E5ECF6",
           "caxis": {
            "gridcolor": "white",
            "linecolor": "white",
            "ticks": ""
           }
          },
          "title": {
           "x": 0.05
          },
          "xaxis": {
           "automargin": true,
           "gridcolor": "white",
           "linecolor": "white",
           "ticks": "",
           "title": {
            "standoff": 15
           },
           "zerolinecolor": "white",
           "zerolinewidth": 2
          },
          "yaxis": {
           "automargin": true,
           "gridcolor": "white",
           "linecolor": "white",
           "ticks": "",
           "title": {
            "standoff": 15
           },
           "zerolinecolor": "white",
           "zerolinewidth": 2
          }
         }
        },
        "title": {
         "text": "Which countries are most consistent in their recycling behavior? (EU-28, 2017)"
        }
       }
      },
      "text/html": [
       "<div>\n",
       "        \n",
       "        \n",
       "            <div id=\"1988254b-293b-4f9a-8d35-6273f7310113\" class=\"plotly-graph-div\" style=\"height:525px; width:100%;\"></div>\n",
       "            <script type=\"text/javascript\">\n",
       "                require([\"plotly\"], function(Plotly) {\n",
       "                    window.PLOTLYENV=window.PLOTLYENV || {};\n",
       "                    \n",
       "                if (document.getElementById(\"1988254b-293b-4f9a-8d35-6273f7310113\")) {\n",
       "                    Plotly.newPlot(\n",
       "                        '1988254b-293b-4f9a-8d35-6273f7310113',\n",
       "                        [{\"colorscale\": [[0.0, \"#00CC93\"], [1.0, \"#00CC93\"]], \"customdata\": [[\"49%\", \"58%\"], [\"17%\", \"35%\"]], \"geo\": \"geo\", \"hoverlabel\": {\"namelength\": 0}, \"hovertemplate\": \"<b>%{hovertext}</b><br><br>Perception of own recycling behavior=Actual recycling rate is higher than self-reported rate<br>Self-reported recycling rate=%{customdata[0]}<br>Actual recycling rate=%{customdata[1]}<br>Country code=%{location}\", \"hovertext\": [\"Austria\", \"Bulgaria\"], \"locations\": [\"AUT\", \"BGR\"], \"name\": \"Actual recycling rate is higher than self-reported rate\", \"showlegend\": true, \"showscale\": false, \"type\": \"choropleth\", \"z\": [1, 1]}, {\"colorscale\": [[0.0, \"#636EFA\"], [1.0, \"#636EFA\"]], \"customdata\": [[\"72%\", \"54%\"], [\"44%\", \"24%\"], [\"67%\", \"38%\"], [\"69%\", \"46%\"], [\"51%\", \"28%\"], [\"65%\", \"46%\"], [\"70%\", \"68%\"], [\"54%\", \"35%\"], [\"65%\", \"41%\"], [\"57%\", \"48%\"], [\"45%\", \"23%\"], [\"67%\", \"48%\"], [\"79%\", \"48%\"], [\"82%\", \"54%\"], [\"55%\", \"34%\"], [\"29%\", \"14%\"], [\"60%\", \"30%\"], [\"81%\", \"58%\"], [\"61%\", \"33%\"], [\"76%\", \"44%\"]], \"geo\": \"geo\", \"hoverlabel\": {\"namelength\": 0}, \"hovertemplate\": \"<b>%{hovertext}</b><br><br>Perception of own recycling behavior=Actual recycling rate and self-reported rate are similar<br>Self-reported recycling rate=%{customdata[0]}<br>Actual recycling rate=%{customdata[1]}<br>Country code=%{location}\", \"hovertext\": [\"Belgium\", \"Croatia\", \"Czechia\", \"Denmark\", \"Estonia\", \"European Union (EU-28)\", \"Germany\", \"Hungary\", \"Ireland\", \"Italy\", \"Latvia\", \"Lithuania\", \"Luxembourg\", \"The Netherlands\", \"Poland\", \"Romania\", \"Slovakia\", \"Slovenia\", \"Spain\", \"United Kingdom\"], \"locations\": [\"BEL\", \"HRV\", \"CZE\", \"DNK\", \"EST\", \"UE28\", \"DEU\", \"HUN\", \"IRL\", \"ITA\", \"LVA\", \"LTU\", \"LUX\", \"NLD\", \"POL\", \"ROU\", \"SVK\", \"SVN\", \"ESP\", \"GBR\"], \"name\": \"Actual recycling rate and self-reported rate are similar\", \"showlegend\": true, \"showscale\": false, \"type\": \"choropleth\", \"z\": [1, 1, 1, 1, 1, 1, 1, 1, 1, 1, 1, 1, 1, 1, 1, 1, 1, 1, 1, 1]}, {\"colorscale\": [[0.0, \"#EF553B\"], [1.0, \"#EF553B\"]], \"customdata\": [[\"58%\", \"16%\"], [\"77%\", \"41%\"], [\"81%\", \"43%\"], [\"57%\", \"19%\"], [\"72%\", \"6%\"], [\"63%\", \"28%\"], [\"87%\", \"47%\"]], \"geo\": \"geo\", \"hoverlabel\": {\"namelength\": 0}, \"hovertemplate\": \"<b>%{hovertext}</b><br><br>Perception of own recycling behavior=Self-reported recycling rate is higher than actual rate<br>Self-reported recycling rate=%{customdata[0]}<br>Actual recycling rate=%{customdata[1]}<br>Country code=%{location}\", \"hovertext\": [\"Cyprus\", \"Finland\", \"France\", \"Greece\", \"Malta\", \"Portugal\", \"Sweden\"], \"locations\": [\"CYP\", \"FIN\", \"FRA\", \"GRC\", \"MLT\", \"PRT\", \"SWE\"], \"name\": \"Self-reported recycling rate is higher than actual rate\", \"showlegend\": true, \"showscale\": false, \"type\": \"choropleth\", \"z\": [1, 1, 1, 1, 1, 1, 1]}],\n",
       "                        {\"annotations\": [{\"showarrow\": false, \"text\": \"Scale based on the comparison between actual recycling rate* and self-reported recycling rate**\", \"x\": 0.08, \"xref\": \"paper\", \"y\": 1.07, \"yref\": \"paper\"}, {\"showarrow\": false, \"text\": \"*Percentage of municipal waste being recycled and composted\", \"x\": 0.08, \"xref\": \"paper\", \"y\": 0.09, \"yref\": \"paper\"}, {\"showarrow\": false, \"text\": \"**Percentage of respondents reporting separating most of their waste for recycling in the past 6 months\", \"x\": 0.08, \"xref\": \"paper\", \"y\": 0.05, \"yref\": \"paper\"}], \"autosize\": true, \"geo\": {\"center\": {}, \"domain\": {\"x\": [0.0, 1.0], \"y\": [0.0, 1.0]}, \"projection\": {\"type\": \"natural earth\"}, \"scope\": \"europe\"}, \"legend\": {\"title\": {\"text\": \"Perception of own recycling behavior\"}, \"tracegroupgap\": 0}, \"margin\": {\"b\": 0, \"l\": 0, \"r\": 0, \"t\": 80}, \"template\": {\"data\": {\"bar\": [{\"error_x\": {\"color\": \"#2a3f5f\"}, \"error_y\": {\"color\": \"#2a3f5f\"}, \"marker\": {\"line\": {\"color\": \"#E5ECF6\", \"width\": 0.5}}, \"type\": \"bar\"}], \"barpolar\": [{\"marker\": {\"line\": {\"color\": \"#E5ECF6\", \"width\": 0.5}}, \"type\": \"barpolar\"}], \"carpet\": [{\"aaxis\": {\"endlinecolor\": \"#2a3f5f\", \"gridcolor\": \"white\", \"linecolor\": \"white\", \"minorgridcolor\": \"white\", \"startlinecolor\": \"#2a3f5f\"}, \"baxis\": {\"endlinecolor\": \"#2a3f5f\", \"gridcolor\": \"white\", \"linecolor\": \"white\", \"minorgridcolor\": \"white\", \"startlinecolor\": \"#2a3f5f\"}, \"type\": \"carpet\"}], \"choropleth\": [{\"colorbar\": {\"outlinewidth\": 0, \"ticks\": \"\"}, \"type\": \"choropleth\"}], \"contour\": [{\"colorbar\": {\"outlinewidth\": 0, \"ticks\": \"\"}, \"colorscale\": [[0.0, \"#0d0887\"], [0.1111111111111111, \"#46039f\"], [0.2222222222222222, \"#7201a8\"], [0.3333333333333333, \"#9c179e\"], [0.4444444444444444, \"#bd3786\"], [0.5555555555555556, \"#d8576b\"], [0.6666666666666666, \"#ed7953\"], [0.7777777777777778, \"#fb9f3a\"], [0.8888888888888888, \"#fdca26\"], [1.0, \"#f0f921\"]], \"type\": \"contour\"}], \"contourcarpet\": [{\"colorbar\": {\"outlinewidth\": 0, \"ticks\": \"\"}, \"type\": \"contourcarpet\"}], \"heatmap\": [{\"colorbar\": {\"outlinewidth\": 0, \"ticks\": \"\"}, \"colorscale\": [[0.0, \"#0d0887\"], [0.1111111111111111, \"#46039f\"], [0.2222222222222222, \"#7201a8\"], [0.3333333333333333, \"#9c179e\"], [0.4444444444444444, \"#bd3786\"], [0.5555555555555556, \"#d8576b\"], [0.6666666666666666, \"#ed7953\"], [0.7777777777777778, \"#fb9f3a\"], [0.8888888888888888, \"#fdca26\"], [1.0, \"#f0f921\"]], \"type\": \"heatmap\"}], \"heatmapgl\": [{\"colorbar\": {\"outlinewidth\": 0, \"ticks\": \"\"}, \"colorscale\": [[0.0, \"#0d0887\"], [0.1111111111111111, \"#46039f\"], [0.2222222222222222, \"#7201a8\"], [0.3333333333333333, \"#9c179e\"], [0.4444444444444444, \"#bd3786\"], [0.5555555555555556, \"#d8576b\"], [0.6666666666666666, \"#ed7953\"], [0.7777777777777778, \"#fb9f3a\"], [0.8888888888888888, \"#fdca26\"], [1.0, \"#f0f921\"]], \"type\": \"heatmapgl\"}], \"histogram\": [{\"marker\": {\"colorbar\": {\"outlinewidth\": 0, \"ticks\": \"\"}}, \"type\": \"histogram\"}], \"histogram2d\": [{\"colorbar\": {\"outlinewidth\": 0, \"ticks\": \"\"}, \"colorscale\": [[0.0, \"#0d0887\"], [0.1111111111111111, \"#46039f\"], [0.2222222222222222, \"#7201a8\"], [0.3333333333333333, \"#9c179e\"], [0.4444444444444444, \"#bd3786\"], [0.5555555555555556, \"#d8576b\"], [0.6666666666666666, \"#ed7953\"], [0.7777777777777778, \"#fb9f3a\"], [0.8888888888888888, \"#fdca26\"], [1.0, \"#f0f921\"]], \"type\": \"histogram2d\"}], \"histogram2dcontour\": [{\"colorbar\": {\"outlinewidth\": 0, \"ticks\": \"\"}, \"colorscale\": [[0.0, \"#0d0887\"], [0.1111111111111111, \"#46039f\"], [0.2222222222222222, \"#7201a8\"], [0.3333333333333333, \"#9c179e\"], [0.4444444444444444, \"#bd3786\"], [0.5555555555555556, \"#d8576b\"], [0.6666666666666666, \"#ed7953\"], [0.7777777777777778, \"#fb9f3a\"], [0.8888888888888888, \"#fdca26\"], [1.0, \"#f0f921\"]], \"type\": \"histogram2dcontour\"}], \"mesh3d\": [{\"colorbar\": {\"outlinewidth\": 0, \"ticks\": \"\"}, \"type\": \"mesh3d\"}], \"parcoords\": [{\"line\": {\"colorbar\": {\"outlinewidth\": 0, \"ticks\": \"\"}}, \"type\": \"parcoords\"}], \"pie\": [{\"automargin\": true, \"type\": \"pie\"}], \"scatter\": [{\"marker\": {\"colorbar\": {\"outlinewidth\": 0, \"ticks\": \"\"}}, \"type\": \"scatter\"}], \"scatter3d\": [{\"line\": {\"colorbar\": {\"outlinewidth\": 0, \"ticks\": \"\"}}, \"marker\": {\"colorbar\": {\"outlinewidth\": 0, \"ticks\": \"\"}}, \"type\": \"scatter3d\"}], \"scattercarpet\": [{\"marker\": {\"colorbar\": {\"outlinewidth\": 0, \"ticks\": \"\"}}, \"type\": \"scattercarpet\"}], \"scattergeo\": [{\"marker\": {\"colorbar\": {\"outlinewidth\": 0, \"ticks\": \"\"}}, \"type\": \"scattergeo\"}], \"scattergl\": [{\"marker\": {\"colorbar\": {\"outlinewidth\": 0, \"ticks\": \"\"}}, \"type\": \"scattergl\"}], \"scattermapbox\": [{\"marker\": {\"colorbar\": {\"outlinewidth\": 0, \"ticks\": \"\"}}, \"type\": \"scattermapbox\"}], \"scatterpolar\": [{\"marker\": {\"colorbar\": {\"outlinewidth\": 0, \"ticks\": \"\"}}, \"type\": \"scatterpolar\"}], \"scatterpolargl\": [{\"marker\": {\"colorbar\": {\"outlinewidth\": 0, \"ticks\": \"\"}}, \"type\": \"scatterpolargl\"}], \"scatterternary\": [{\"marker\": {\"colorbar\": {\"outlinewidth\": 0, \"ticks\": \"\"}}, \"type\": \"scatterternary\"}], \"surface\": [{\"colorbar\": {\"outlinewidth\": 0, \"ticks\": \"\"}, \"colorscale\": [[0.0, \"#0d0887\"], [0.1111111111111111, \"#46039f\"], [0.2222222222222222, \"#7201a8\"], [0.3333333333333333, \"#9c179e\"], [0.4444444444444444, \"#bd3786\"], [0.5555555555555556, \"#d8576b\"], [0.6666666666666666, \"#ed7953\"], [0.7777777777777778, \"#fb9f3a\"], [0.8888888888888888, \"#fdca26\"], [1.0, \"#f0f921\"]], \"type\": \"surface\"}], \"table\": [{\"cells\": {\"fill\": {\"color\": \"#EBF0F8\"}, \"line\": {\"color\": \"white\"}}, \"header\": {\"fill\": {\"color\": \"#C8D4E3\"}, \"line\": {\"color\": \"white\"}}, \"type\": \"table\"}]}, \"layout\": {\"annotationdefaults\": {\"arrowcolor\": \"#2a3f5f\", \"arrowhead\": 0, \"arrowwidth\": 1}, \"coloraxis\": {\"colorbar\": {\"outlinewidth\": 0, \"ticks\": \"\"}}, \"colorscale\": {\"diverging\": [[0, \"#8e0152\"], [0.1, \"#c51b7d\"], [0.2, \"#de77ae\"], [0.3, \"#f1b6da\"], [0.4, \"#fde0ef\"], [0.5, \"#f7f7f7\"], [0.6, \"#e6f5d0\"], [0.7, \"#b8e186\"], [0.8, \"#7fbc41\"], [0.9, \"#4d9221\"], [1, \"#276419\"]], \"sequential\": [[0.0, \"#0d0887\"], [0.1111111111111111, \"#46039f\"], [0.2222222222222222, \"#7201a8\"], [0.3333333333333333, \"#9c179e\"], [0.4444444444444444, \"#bd3786\"], [0.5555555555555556, \"#d8576b\"], [0.6666666666666666, \"#ed7953\"], [0.7777777777777778, \"#fb9f3a\"], [0.8888888888888888, \"#fdca26\"], [1.0, \"#f0f921\"]], \"sequentialminus\": [[0.0, \"#0d0887\"], [0.1111111111111111, \"#46039f\"], [0.2222222222222222, \"#7201a8\"], [0.3333333333333333, \"#9c179e\"], [0.4444444444444444, \"#bd3786\"], [0.5555555555555556, \"#d8576b\"], [0.6666666666666666, \"#ed7953\"], [0.7777777777777778, \"#fb9f3a\"], [0.8888888888888888, \"#fdca26\"], [1.0, \"#f0f921\"]]}, \"colorway\": [\"#636efa\", \"#EF553B\", \"#00cc96\", \"#ab63fa\", \"#FFA15A\", \"#19d3f3\", \"#FF6692\", \"#B6E880\", \"#FF97FF\", \"#FECB52\"], \"font\": {\"color\": \"#2a3f5f\"}, \"geo\": {\"bgcolor\": \"white\", \"lakecolor\": \"white\", \"landcolor\": \"#E5ECF6\", \"showlakes\": true, \"showland\": true, \"subunitcolor\": \"white\"}, \"hoverlabel\": {\"align\": \"left\"}, \"hovermode\": \"closest\", \"mapbox\": {\"style\": \"light\"}, \"paper_bgcolor\": \"white\", \"plot_bgcolor\": \"#E5ECF6\", \"polar\": {\"angularaxis\": {\"gridcolor\": \"white\", \"linecolor\": \"white\", \"ticks\": \"\"}, \"bgcolor\": \"#E5ECF6\", \"radialaxis\": {\"gridcolor\": \"white\", \"linecolor\": \"white\", \"ticks\": \"\"}}, \"scene\": {\"xaxis\": {\"backgroundcolor\": \"#E5ECF6\", \"gridcolor\": \"white\", \"gridwidth\": 2, \"linecolor\": \"white\", \"showbackground\": true, \"ticks\": \"\", \"zerolinecolor\": \"white\"}, \"yaxis\": {\"backgroundcolor\": \"#E5ECF6\", \"gridcolor\": \"white\", \"gridwidth\": 2, \"linecolor\": \"white\", \"showbackground\": true, \"ticks\": \"\", \"zerolinecolor\": \"white\"}, \"zaxis\": {\"backgroundcolor\": \"#E5ECF6\", \"gridcolor\": \"white\", \"gridwidth\": 2, \"linecolor\": \"white\", \"showbackground\": true, \"ticks\": \"\", \"zerolinecolor\": \"white\"}}, \"shapedefaults\": {\"line\": {\"color\": \"#2a3f5f\"}}, \"ternary\": {\"aaxis\": {\"gridcolor\": \"white\", \"linecolor\": \"white\", \"ticks\": \"\"}, \"baxis\": {\"gridcolor\": \"white\", \"linecolor\": \"white\", \"ticks\": \"\"}, \"bgcolor\": \"#E5ECF6\", \"caxis\": {\"gridcolor\": \"white\", \"linecolor\": \"white\", \"ticks\": \"\"}}, \"title\": {\"x\": 0.05}, \"xaxis\": {\"automargin\": true, \"gridcolor\": \"white\", \"linecolor\": \"white\", \"ticks\": \"\", \"title\": {\"standoff\": 15}, \"zerolinecolor\": \"white\", \"zerolinewidth\": 2}, \"yaxis\": {\"automargin\": true, \"gridcolor\": \"white\", \"linecolor\": \"white\", \"ticks\": \"\", \"title\": {\"standoff\": 15}, \"zerolinecolor\": \"white\", \"zerolinewidth\": 2}}}, \"title\": {\"text\": \"Which countries are most consistent in their recycling behavior? (EU-28, 2017)\"}},\n",
       "                        {\"responsive\": true}\n",
       "                    ).then(function(){\n",
       "                            \n",
       "var gd = document.getElementById('1988254b-293b-4f9a-8d35-6273f7310113');\n",
       "var x = new MutationObserver(function (mutations, observer) {{\n",
       "        var display = window.getComputedStyle(gd).display;\n",
       "        if (!display || display === 'none') {{\n",
       "            console.log([gd, 'removed!']);\n",
       "            Plotly.purge(gd);\n",
       "            observer.disconnect();\n",
       "        }}\n",
       "}});\n",
       "\n",
       "// Listen for the removal of the full notebook cells\n",
       "var notebookContainer = gd.closest('#notebook-container');\n",
       "if (notebookContainer) {{\n",
       "    x.observe(notebookContainer, {childList: true});\n",
       "}}\n",
       "\n",
       "// Listen for the clearing of the current output cell\n",
       "var outputEl = gd.closest('.output');\n",
       "if (outputEl) {{\n",
       "    x.observe(outputEl, {childList: true});\n",
       "}}\n",
       "\n",
       "                        })\n",
       "                };\n",
       "                });\n",
       "            </script>\n",
       "        </div>"
      ]
     },
     "metadata": {},
     "output_type": "display_data"
    }
   ],
   "source": [
    "# Build the figure (interactive map using Plotly)\n",
    "    \n",
    "fig = px.choropleth(dfm, \n",
    "                    locations='Country code', \n",
    "                    color='Perception of own recycling behavior',\n",
    "                    color_discrete_sequence=[\"#00CC93\", \"#636EFA\", \"#EF553B\"],\n",
    "                    scope=\"europe\",\n",
    "                    hover_name=\"country_name_clean\",\n",
    "                    hover_data = [\"Self-reported recycling rate\", \"Actual recycling rate\"],\n",
    "                    projection=\"natural earth\"\n",
    "                    )\n",
    "\n",
    "fig.update_layout(\n",
    "    title_text = 'Which countries are most consistent in their recycling behavior? (EU-28, 2017)',\n",
    "    annotations=[\n",
    "        dict(\n",
    "            x=0.08,\n",
    "            y=1.07,\n",
    "            showarrow=False,\n",
    "            text=\"Scale based on the comparison between actual recycling rate* and self-reported recycling rate**\",\n",
    "            xref=\"paper\",\n",
    "            yref=\"paper\"\n",
    "        ),\n",
    "        dict(\n",
    "            x=0.08,\n",
    "            y=0.09,\n",
    "            showarrow=False,\n",
    "            text=\"*Percentage of municipal waste being recycled and composted\",\n",
    "            xref=\"paper\",\n",
    "            yref=\"paper\"\n",
    "        ),\n",
    "        dict(\n",
    "            x=0.08,\n",
    "            y=0.05,\n",
    "            showarrow=False,\n",
    "            text=\"**Percentage of respondents reporting separating most of their waste for recycling in the past 6 months\",\n",
    "            xref=\"paper\",\n",
    "            yref=\"paper\"\n",
    "        ),\n",
    "    ],\n",
    "    autosize=True,\n",
    "    margin={\"r\":0,\"t\":80,\"l\":0,\"b\":0}\n",
    ")\n",
    "\n",
    "fig.show()\n"
   ]
  }
 ],
 "metadata": {
  "kernelspec": {
   "display_name": "Python 3",
   "language": "python",
   "name": "python3"
  },
  "language_info": {
   "codemirror_mode": {
    "name": "ipython",
    "version": 3
   },
   "file_extension": ".py",
   "mimetype": "text/x-python",
   "name": "python",
   "nbconvert_exporter": "python",
   "pygments_lexer": "ipython3",
   "version": "3.7.6"
  }
 },
 "nbformat": 4,
 "nbformat_minor": 2
}
